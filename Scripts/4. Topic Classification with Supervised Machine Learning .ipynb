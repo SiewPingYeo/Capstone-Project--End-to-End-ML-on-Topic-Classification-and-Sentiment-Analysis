{
 "cells": [
  {
   "cell_type": "markdown",
   "metadata": {},
   "source": [
    "# 4. Topic Classification with Supervised Machine Learning\n"
   ]
  },
  {
   "cell_type": "markdown",
   "metadata": {},
   "source": [
    "After topic modelling has been done through Latent Dirichlet Allocation (Unsupervised ML), there are 4 distinct topics extracted from the scraped reviews from TripAdvisor for ibis Budget Singapore Hotels. \n",
    "\n",
    "**The 4 topics are:** \n",
    "1. Location \n",
    "2. Room Amenities\n",
    "3. Environment\n",
    "4. Service\n",
    "\n",
    "The reviews are asisgned to its dominant topic and they are now labelled. Using the labelled reviews, supervised machine learning will be applied to create a model for topic classification of future reviews. This will be a multi-class supervised machine learning model. \n",
    "This would assist the hotel management to streamline the topic classification process and improve the efficiency when it comes to processing reviews and identifying pain points for service recovery. \n",
    "\n",
    "**The flow would be as follows:**\n",
    "1. Import relevant libraries and dataset\n",
    "2. Supervised Machine Learning\n",
    "    - Text Pre-processing - TFIDF Vectorizer \n",
    "    - Training Models \n",
    "    - Selecting the best model\n",
    "3. Save and pickle model for deployment "
   ]
  },
  {
   "cell_type": "markdown",
   "metadata": {},
   "source": [
    "## 1. Import Relevant Libraries and Dataset"
   ]
  },
  {
   "cell_type": "code",
   "execution_count": 19,
   "metadata": {},
   "outputs": [],
   "source": [
    "import numpy as np\n",
    "import pandas as pd\n",
    "from sklearn.model_selection import train_test_split, GridSearchCV\n",
    "from sklearn.feature_extraction.text import TfidfVectorizer\n",
    "from sklearn.metrics import accuracy_score, confusion_matrix, classification_report, roc_auc_score\n",
    "from sklearn.ensemble import RandomForestClassifier, AdaBoostClassifier\n",
    "from sklearn.svm import SVC\n",
    "from sklearn.pipeline import make_pipeline\n",
    "from sklearn.svm import LinearSVC\n",
    "import pickle\n",
    "import seaborn as sns\n",
    "import matplotlib.pyplot as plt\n",
    "from sklearn.model_selection import StratifiedKFold\n",
    "from sklearn.model_selection import cross_val_score\n",
    "from sklearn.metrics import classification_report\n",
    "from sklearn.svm import LinearSVC\n",
    "random_state = 100"
   ]
  },
  {
   "cell_type": "code",
   "execution_count": 2,
   "metadata": {},
   "outputs": [],
   "source": [
    "df = pd.read_csv('final_df.csv')"
   ]
  },
  {
   "cell_type": "code",
   "execution_count": 3,
   "metadata": {},
   "outputs": [
    {
     "data": {
      "text/html": [
       "<div>\n",
       "<style scoped>\n",
       "    .dataframe tbody tr th:only-of-type {\n",
       "        vertical-align: middle;\n",
       "    }\n",
       "\n",
       "    .dataframe tbody tr th {\n",
       "        vertical-align: top;\n",
       "    }\n",
       "\n",
       "    .dataframe thead th {\n",
       "        text-align: right;\n",
       "    }\n",
       "</style>\n",
       "<table border=\"1\" class=\"dataframe\">\n",
       "  <thead>\n",
       "    <tr style=\"text-align: right;\">\n",
       "      <th></th>\n",
       "      <th>Hotel_Name</th>\n",
       "      <th>Date</th>\n",
       "      <th>Title</th>\n",
       "      <th>Review</th>\n",
       "      <th>Rating</th>\n",
       "      <th>Ori_Rating</th>\n",
       "      <th>Cleaned_Review</th>\n",
       "      <th>Dominant_topic</th>\n",
       "      <th>Perc_Contrib</th>\n",
       "      <th>Topic_Keywords</th>\n",
       "      <th>TextBlob_Polarity</th>\n",
       "      <th>Pol_Rating</th>\n",
       "      <th>Topic</th>\n",
       "      <th>Review_Len</th>\n",
       "      <th>Year</th>\n",
       "    </tr>\n",
       "  </thead>\n",
       "  <tbody>\n",
       "    <tr>\n",
       "      <th>0</th>\n",
       "      <td>ibis budget Singapore Pearl</td>\n",
       "      <td>April 2022</td>\n",
       "      <td>When they say budget they mean budget</td>\n",
       "      <td>When they say budget they really mean budget. ...</td>\n",
       "      <td>2</td>\n",
       "      <td>Negative</td>\n",
       "      <td>say budget really mean budget double basically...</td>\n",
       "      <td>0</td>\n",
       "      <td>0.5293</td>\n",
       "      <td>clean, good, small, walk, staff, location, mrt...</td>\n",
       "      <td>0.001923</td>\n",
       "      <td>Neutral</td>\n",
       "      <td>Location</td>\n",
       "      <td>89</td>\n",
       "      <td>2022</td>\n",
       "    </tr>\n",
       "    <tr>\n",
       "      <th>1</th>\n",
       "      <td>ibis budget Singapore Pearl</td>\n",
       "      <td>January 2021</td>\n",
       "      <td>Poor customer service</td>\n",
       "      <td>This hotel does not live up to expectation of ...</td>\n",
       "      <td>3</td>\n",
       "      <td>Neutral</td>\n",
       "      <td>live expectation service standard accord membe...</td>\n",
       "      <td>1</td>\n",
       "      <td>0.3879</td>\n",
       "      <td>staff, u, service, front, desk, friendly, good...</td>\n",
       "      <td>-0.077597</td>\n",
       "      <td>Negative</td>\n",
       "      <td>Service</td>\n",
       "      <td>54</td>\n",
       "      <td>2021</td>\n",
       "    </tr>\n",
       "    <tr>\n",
       "      <th>2</th>\n",
       "      <td>ibis budget Singapore Pearl</td>\n",
       "      <td>February 2020</td>\n",
       "      <td>It's okay</td>\n",
       "      <td>We stayed 4 nights. We got free room promotion...</td>\n",
       "      <td>3</td>\n",
       "      <td>Neutral</td>\n",
       "      <td>stayed night get free promotion double family ...</td>\n",
       "      <td>0</td>\n",
       "      <td>0.6708</td>\n",
       "      <td>clean, good, small, walk, staff, location, mrt...</td>\n",
       "      <td>0.120055</td>\n",
       "      <td>Neutral</td>\n",
       "      <td>Location</td>\n",
       "      <td>98</td>\n",
       "      <td>2020</td>\n",
       "    </tr>\n",
       "    <tr>\n",
       "      <th>3</th>\n",
       "      <td>ibis budget Singapore Pearl</td>\n",
       "      <td>February 2020</td>\n",
       "      <td>Average stay</td>\n",
       "      <td>Located in an area that looks a little more ru...</td>\n",
       "      <td>3</td>\n",
       "      <td>Neutral</td>\n",
       "      <td>locate area look little run rest felt safe alt...</td>\n",
       "      <td>0</td>\n",
       "      <td>0.6372</td>\n",
       "      <td>clean, good, small, walk, staff, location, mrt...</td>\n",
       "      <td>0.209201</td>\n",
       "      <td>Positive</td>\n",
       "      <td>Location</td>\n",
       "      <td>80</td>\n",
       "      <td>2020</td>\n",
       "    </tr>\n",
       "    <tr>\n",
       "      <th>4</th>\n",
       "      <td>ibis budget Singapore Pearl</td>\n",
       "      <td>January 2020</td>\n",
       "      <td>Good budget Hotel</td>\n",
       "      <td>Ibis pearl is good budget hotel in geylang are...</td>\n",
       "      <td>3</td>\n",
       "      <td>Neutral</td>\n",
       "      <td>pearl good budget geylang area compact amenity...</td>\n",
       "      <td>0</td>\n",
       "      <td>0.9890</td>\n",
       "      <td>clean, good, small, walk, staff, location, mrt...</td>\n",
       "      <td>0.400000</td>\n",
       "      <td>Positive</td>\n",
       "      <td>Location</td>\n",
       "      <td>53</td>\n",
       "      <td>2020</td>\n",
       "    </tr>\n",
       "  </tbody>\n",
       "</table>\n",
       "</div>"
      ],
      "text/plain": [
       "                    Hotel_Name            Date  \\\n",
       "0  ibis budget Singapore Pearl      April 2022   \n",
       "1  ibis budget Singapore Pearl    January 2021   \n",
       "2  ibis budget Singapore Pearl   February 2020   \n",
       "3  ibis budget Singapore Pearl   February 2020   \n",
       "4  ibis budget Singapore Pearl    January 2020   \n",
       "\n",
       "                                   Title  \\\n",
       "0  When they say budget they mean budget   \n",
       "1                  Poor customer service   \n",
       "2                              It's okay   \n",
       "3                           Average stay   \n",
       "4                      Good budget Hotel   \n",
       "\n",
       "                                              Review  Rating Ori_Rating  \\\n",
       "0  When they say budget they really mean budget. ...       2   Negative   \n",
       "1  This hotel does not live up to expectation of ...       3    Neutral   \n",
       "2  We stayed 4 nights. We got free room promotion...       3    Neutral   \n",
       "3  Located in an area that looks a little more ru...       3    Neutral   \n",
       "4  Ibis pearl is good budget hotel in geylang are...       3    Neutral   \n",
       "\n",
       "                                      Cleaned_Review  Dominant_topic  \\\n",
       "0  say budget really mean budget double basically...               0   \n",
       "1  live expectation service standard accord membe...               1   \n",
       "2  stayed night get free promotion double family ...               0   \n",
       "3  locate area look little run rest felt safe alt...               0   \n",
       "4  pearl good budget geylang area compact amenity...               0   \n",
       "\n",
       "   Perc_Contrib                                     Topic_Keywords  \\\n",
       "0        0.5293  clean, good, small, walk, staff, location, mrt...   \n",
       "1        0.3879  staff, u, service, front, desk, friendly, good...   \n",
       "2        0.6708  clean, good, small, walk, staff, location, mrt...   \n",
       "3        0.6372  clean, good, small, walk, staff, location, mrt...   \n",
       "4        0.9890  clean, good, small, walk, staff, location, mrt...   \n",
       "\n",
       "   TextBlob_Polarity Pol_Rating     Topic  Review_Len  Year  \n",
       "0           0.001923    Neutral  Location          89  2022  \n",
       "1          -0.077597   Negative   Service          54  2021  \n",
       "2           0.120055    Neutral  Location          98  2020  \n",
       "3           0.209201   Positive  Location          80  2020  \n",
       "4           0.400000   Positive  Location          53  2020  "
      ]
     },
     "execution_count": 3,
     "metadata": {},
     "output_type": "execute_result"
    }
   ],
   "source": [
    "df.head()"
   ]
  },
  {
   "cell_type": "code",
   "execution_count": 4,
   "metadata": {},
   "outputs": [
    {
     "data": {
      "text/plain": [
       "<AxesSubplot:xlabel='Dominant_topic', ylabel='count'>"
      ]
     },
     "execution_count": 4,
     "metadata": {},
     "output_type": "execute_result"
    },
    {
     "data": {
      "image/png": "[encoded data removed]",
      "text/plain": [
       "<Figure size 432x288 with 1 Axes>"
      ]
     },
     "metadata": {
      "needs_background": "light"
     },
     "output_type": "display_data"
    }
   ],
   "source": [
    "# Visualise the countplot for topics\n",
    "sns.countplot(x = 'Dominant_topic', data = df)"
   ]
  },
  {
   "cell_type": "markdown",
   "metadata": {},
   "source": [
    "From the countplot, the dataset is imbalanced and this will need to be addressed during the model training process. "
   ]
  },
  {
   "cell_type": "markdown",
   "metadata": {},
   "source": [
    "## 2. Text - Preprocessing - Vectorization"
   ]
  },
  {
   "cell_type": "markdown",
   "metadata": {},
   "source": [
    "The cleaned and pre-processed reviews from Part 1 will be vectorized through TFIDF Vectorizer. The text will be converted into a term document matrix for input to machine learning models. "
   ]
  },
  {
   "cell_type": "code",
   "execution_count": 5,
   "metadata": {},
   "outputs": [],
   "source": [
    "X = df['Cleaned_Review']\n",
    "y = df['Dominant_topic']"
   ]
  },
  {
   "cell_type": "code",
   "execution_count": 6,
   "metadata": {},
   "outputs": [
    {
     "data": {
      "text/plain": [
       "TfidfVectorizer(max_df=0.5, sublinear_tf=True)"
      ]
     },
     "execution_count": 6,
     "metadata": {},
     "output_type": "execute_result"
    }
   ],
   "source": [
    "# split data into test and training , set stratify as y as dataset is imbalanced \n",
    "X_train, X_test, y_train, y_test = train_test_split(\n",
    "    X, y, \n",
    "    test_size=0.25, \n",
    "    random_state = random_state, stratify = y)\n",
    "\n",
    "#initiate vectorizer and fit\n",
    "vectorizer = TfidfVectorizer(sublinear_tf=True, max_df = 0.5)\n",
    "vectorizer.fit(X_train)"
   ]
  },
  {
   "cell_type": "code",
   "execution_count": 7,
   "metadata": {},
   "outputs": [],
   "source": [
    "#transform to vectors\n",
    "X_train_v = vectorizer.transform(X_train).toarray()\n",
    "X_test_v = vectorizer.transform(X_test).toarray()"
   ]
  },
  {
   "cell_type": "markdown",
   "metadata": {},
   "source": [
    "## 2. Model Training"
   ]
  },
  {
   "cell_type": "markdown",
   "metadata": {},
   "source": [
    "The classification algorithms used for model training: \n",
    "1. Random Forest \n",
    "2. AdaBoost \n",
    "3. Support Vector Machine\n",
    "4. Linear SVC\n",
    "\n",
    "The metric used for selecting the best model will be Accuracy for this multi-class classification.\n",
    "As this is an imbalanced dataset, the class weights will be adjusted during model training. "
   ]
  },
  {
   "cell_type": "markdown",
   "metadata": {},
   "source": [
    "### (a) Random Forest "
   ]
  },
  {
   "cell_type": "code",
   "execution_count": 8,
   "metadata": {},
   "outputs": [
    {
     "data": {
      "text/plain": [
       "RandomForestClassifier(class_weight='balanced', criterion='entropy',\n",
       "                       max_samples=0.5, min_samples_split=20, n_estimators=75,\n",
       "                       random_state=100)"
      ]
     },
     "execution_count": 8,
     "metadata": {},
     "output_type": "execute_result"
    }
   ],
   "source": [
    "# Instantiate the random forest model\n",
    "clf = RandomForestClassifier(\n",
    "    n_estimators = 75,\n",
    "    criterion = 'entropy',\n",
    "    random_state = random_state,\n",
    "    class_weight = 'balanced',\n",
    "    min_samples_split = 20,\n",
    "    max_samples = 0.5\n",
    ")\n",
    "\n",
    "# Fit the model for train data \n",
    "clf.fit(X_train_v, y_train)"
   ]
  },
  {
   "cell_type": "code",
   "execution_count": 9,
   "metadata": {},
   "outputs": [],
   "source": [
    "y_pred = clf.predict(X_test_v)"
   ]
  },
  {
   "cell_type": "code",
   "execution_count": 10,
   "metadata": {},
   "outputs": [],
   "source": [
    "# Conduct stratified kfold to prevent overfitting\n",
    "stratified_kfold = StratifiedKFold(n_splits=3, shuffle = True,random_state= random_state)\n",
    "scores = cross_val_score(clf, X_train_v, y_train, cv = stratified_kfold)"
   ]
  },
  {
   "cell_type": "code",
   "execution_count": 11,
   "metadata": {},
   "outputs": [
    {
     "name": "stdout",
     "output_type": "stream",
     "text": [
      "Mean Accuracy Score: 0.8478\n"
     ]
    }
   ],
   "source": [
    "print('Mean Accuracy Score: %.4f' % np.mean(scores))"
   ]
  },
  {
   "cell_type": "code",
   "execution_count": 12,
   "metadata": {},
   "outputs": [],
   "source": [
    "#Create confusion matrix \n",
    "cm = confusion_matrix(y_test, y_pred)"
   ]
  },
  {
   "cell_type": "code",
   "execution_count": 13,
   "metadata": {},
   "outputs": [
    {
     "data": {
      "text/plain": [
       "<AxesSubplot:>"
      ]
     },
     "execution_count": 13,
     "metadata": {},
     "output_type": "execute_result"
    },
    {
     "data": {
      "image/png": "[encoded data removed]",
      "text/plain": [
       "<Figure size 432x288 with 2 Axes>"
      ]
     },
     "metadata": {
      "needs_background": "light"
     },
     "output_type": "display_data"
    }
   ],
   "source": [
    "sns.heatmap(cm, annot=True, fmt='d')"
   ]
  },
  {
   "cell_type": "code",
   "execution_count": 14,
   "metadata": {},
   "outputs": [
    {
     "name": "stdout",
     "output_type": "stream",
     "text": [
      "              precision    recall  f1-score   support\n",
      "\n",
      "           0       0.89      0.98      0.93       714\n",
      "           1       0.83      0.65      0.73        75\n",
      "           2       0.00      0.00      0.00         6\n",
      "           3       0.87      0.63      0.73       174\n",
      "\n",
      "    accuracy                           0.88       969\n",
      "   macro avg       0.65      0.56      0.60       969\n",
      "weighted avg       0.88      0.88      0.87       969\n",
      "\n"
     ]
    },
    {
     "name": "stderr",
     "output_type": "stream",
     "text": [
      "C:\\Users\\yeosi\\anaconda3\\envs\\baseclone\\lib\\site-packages\\sklearn\\metrics\\_classification.py:1221: UndefinedMetricWarning: Precision and F-score are ill-defined and being set to 0.0 in labels with no predicted samples. Use `zero_division` parameter to control this behavior.\n",
      "  _warn_prf(average, modifier, msg_start, len(result))\n"
     ]
    }
   ],
   "source": [
    "# Print classification report \n",
    "print(classification_report(y_test, y_pred))"
   ]
  },
  {
   "cell_type": "markdown",
   "metadata": {},
   "source": [
    "Accuracy is pretty high at 0.88 and there are no signs of overfitting. "
   ]
  },
  {
   "cell_type": "markdown",
   "metadata": {},
   "source": [
    "### (b) AdaBoost"
   ]
  },
  {
   "cell_type": "code",
   "execution_count": 36,
   "metadata": {},
   "outputs": [
    {
     "data": {
      "text/plain": [
       "AdaBoostClassifier(learning_rate=0.5, n_estimators=75, random_state=100)"
      ]
     },
     "execution_count": 36,
     "metadata": {},
     "output_type": "execute_result"
    }
   ],
   "source": [
    "# Instantiate Adaboost model\n",
    "clf_ada = AdaBoostClassifier(\n",
    "    n_estimators = 75,\n",
    "    random_state = random_state,\n",
    "    learning_rate = 0.5\n",
    ")\n",
    "\n",
    "# fit model to train data \n",
    "clf_ada.fit(X_train_v, y_train)"
   ]
  },
  {
   "cell_type": "code",
   "execution_count": 37,
   "metadata": {},
   "outputs": [],
   "source": [
    "# predict labels using model for test set  \n",
    "y_pred = clf_ada.predict(X_test_v)"
   ]
  },
  {
   "cell_type": "code",
   "execution_count": 38,
   "metadata": {},
   "outputs": [
    {
     "name": "stdout",
     "output_type": "stream",
     "text": [
      "Mean Accuracy Score: 0.7256\n"
     ]
    }
   ],
   "source": [
    "# Conduct stratified kfold to prevent overfitting\n",
    "stratified_kfold = StratifiedKFold(n_splits=3, shuffle = True,random_state= random_state)\n",
    "scores = cross_val_score(clf_ada, X_train_v, y_train, cv = stratified_kfold)\n",
    "print('Mean Accuracy Score: %.4f' % np.mean(scores))"
   ]
  },
  {
   "cell_type": "code",
   "execution_count": 39,
   "metadata": {},
   "outputs": [
    {
     "data": {
      "text/plain": [
       "<AxesSubplot:>"
      ]
     },
     "execution_count": 39,
     "metadata": {},
     "output_type": "execute_result"
    },
    {
     "data": {
      "image/png": "[encoded data removed]",
      "text/plain": [
       "<Figure size 432x288 with 2 Axes>"
      ]
     },
     "metadata": {
      "needs_background": "light"
     },
     "output_type": "display_data"
    }
   ],
   "source": [
    "#Create confusion matrix \n",
    "cm = confusion_matrix(y_test, y_pred)\n",
    "sns.heatmap(cm, annot=True, fmt='d')"
   ]
  },
  {
   "cell_type": "code",
   "execution_count": 40,
   "metadata": {},
   "outputs": [
    {
     "name": "stdout",
     "output_type": "stream",
     "text": [
      "              precision    recall  f1-score   support\n",
      "\n",
      "           0       0.78      0.96      0.86       714\n",
      "           1       0.89      0.11      0.19        75\n",
      "           2       0.00      0.00      0.00         6\n",
      "           3       0.64      0.29      0.40       174\n",
      "\n",
      "    accuracy                           0.77       969\n",
      "   macro avg       0.58      0.34      0.36       969\n",
      "weighted avg       0.76      0.77      0.72       969\n",
      "\n"
     ]
    }
   ],
   "source": [
    "# Print classification report \n",
    "print(classification_report(y_test, y_pred))"
   ]
  },
  {
   "cell_type": "markdown",
   "metadata": {},
   "source": [
    "Adaboost, which uses gradient boosting method, does not seem to give accuracy score as good as Random Forest model. Therefore, this model will not be considered. "
   ]
  },
  {
   "cell_type": "markdown",
   "metadata": {},
   "source": [
    "### (c)  SVM"
   ]
  },
  {
   "cell_type": "code",
   "execution_count": 8,
   "metadata": {},
   "outputs": [
    {
     "data": {
      "text/plain": [
       "SVC(class_weight='balanced', random_state=100)"
      ]
     },
     "execution_count": 8,
     "metadata": {},
     "output_type": "execute_result"
    }
   ],
   "source": [
    "# Instantiate model\n",
    "svc = SVC(\n",
    "    class_weight = 'balanced',\n",
    "    random_state = random_state, \n",
    ")\n",
    "\n",
    "# Fit model to train dataset\n",
    "svc.fit(X_train_v, y_train)"
   ]
  },
  {
   "cell_type": "code",
   "execution_count": 9,
   "metadata": {},
   "outputs": [],
   "source": [
    "y_pred = svc.predict(X_test_v)"
   ]
  },
  {
   "cell_type": "code",
   "execution_count": 10,
   "metadata": {},
   "outputs": [
    {
     "name": "stdout",
     "output_type": "stream",
     "text": [
      "Mean Accuracy Score: 0.9053\n"
     ]
    }
   ],
   "source": [
    "# Conduct stratified kfold to prevent overfitting\n",
    "stratified_kfold = StratifiedKFold(n_splits=3, shuffle = True,random_state= random_state)\n",
    "scores = cross_val_score(svc, X_train_v, y_train, cv = stratified_kfold)\n",
    "print('Mean Accuracy Score: %.4f' % np.mean(scores))"
   ]
  },
  {
   "cell_type": "code",
   "execution_count": 11,
   "metadata": {},
   "outputs": [
    {
     "data": {
      "text/plain": [
       "<AxesSubplot:>"
      ]
     },
     "execution_count": 11,
     "metadata": {},
     "output_type": "execute_result"
    },
    {
     "data": {
      "image/png": "[encoded data removed]",
      "text/plain": [
       "<Figure size 432x288 with 2 Axes>"
      ]
     },
     "metadata": {
      "needs_background": "light"
     },
     "output_type": "display_data"
    }
   ],
   "source": [
    "#Create confusion matrix \n",
    "cm = confusion_matrix(y_test, y_pred)\n",
    "sns.heatmap(cm, annot=True, fmt='d')"
   ]
  },
  {
   "cell_type": "code",
   "execution_count": 12,
   "metadata": {},
   "outputs": [
    {
     "name": "stdout",
     "output_type": "stream",
     "text": [
      "              precision    recall  f1-score   support\n",
      "\n",
      "           0       0.97      0.97      0.97       714\n",
      "           1       0.94      0.84      0.89        75\n",
      "           2       0.00      0.00      0.00         6\n",
      "           3       0.87      0.93      0.89       174\n",
      "\n",
      "    accuracy                           0.95       969\n",
      "   macro avg       0.69      0.68      0.69       969\n",
      "weighted avg       0.94      0.95      0.94       969\n",
      "\n"
     ]
    },
    {
     "name": "stderr",
     "output_type": "stream",
     "text": [
      "C:\\Users\\yeosi\\anaconda3\\envs\\baseclone\\lib\\site-packages\\sklearn\\metrics\\_classification.py:1221: UndefinedMetricWarning: Precision and F-score are ill-defined and being set to 0.0 in labels with no predicted samples. Use `zero_division` parameter to control this behavior.\n",
      "  _warn_prf(average, modifier, msg_start, len(result))\n"
     ]
    }
   ],
   "source": [
    "# Print classification report \n",
    "print(classification_report(y_test, y_pred))"
   ]
  },
  {
   "cell_type": "markdown",
   "metadata": {},
   "source": [
    "Accuracy score is the highest of all models and there is no overfitting of the model. However, as a TFIDF-Vectorizer produces a sparse matrix and the SVC requires a dense matrix, the model might not be workable when combined with tfidf-vectorizer. Hence , we will try to use linear SVC for our model instead. \n",
    "\n",
    "https://stackoverflow.com/questions/28384680/scikit-learns-pipeline-a-sparse-matrix-was-passed-but-dense-data-is-required"
   ]
  },
  {
   "cell_type": "markdown",
   "metadata": {},
   "source": [
    "### (d) Linear SVC"
   ]
  },
  {
   "cell_type": "markdown",
   "metadata": {},
   "source": [
    "Linear SVC supports both dense and sparse input and the multiclass support is handled according to a one-vs-the-rest scheme."
   ]
  },
  {
   "cell_type": "code",
   "execution_count": 26,
   "metadata": {},
   "outputs": [
    {
     "data": {
      "text/plain": [
       "LinearSVC(class_weight='balanced', random_state=100)"
      ]
     },
     "execution_count": 26,
     "metadata": {},
     "output_type": "execute_result"
    }
   ],
   "source": [
    "# Instantiate model \n",
    "lisvc = LinearSVC(\n",
    "    class_weight = 'balanced'\n",
    ", random_state = 100)\n",
    "\n",
    "# Fit model \n",
    "lisvc.fit(X_train_v, y_train)"
   ]
  },
  {
   "cell_type": "code",
   "execution_count": 27,
   "metadata": {},
   "outputs": [],
   "source": [
    "# Predict topics using tets dataset\n",
    "y_pred = lisvc.predict(X_test_v)"
   ]
  },
  {
   "cell_type": "code",
   "execution_count": 28,
   "metadata": {},
   "outputs": [
    {
     "name": "stdout",
     "output_type": "stream",
     "text": [
      "Mean Accuracy Score: 0.9081\n"
     ]
    }
   ],
   "source": [
    "# Conduct stratified kfold to prevent overfitting\n",
    "stratified_kfold = StratifiedKFold(n_splits=3, shuffle = True,random_state= random_state)\n",
    "scores = cross_val_score(lisvc, X_train_v, y_train, cv = stratified_kfold)\n",
    "print('Mean Accuracy Score: %.4f' % np.mean(scores))"
   ]
  },
  {
   "cell_type": "code",
   "execution_count": 29,
   "metadata": {},
   "outputs": [
    {
     "data": {
      "text/plain": [
       "<AxesSubplot:>"
      ]
     },
     "execution_count": 29,
     "metadata": {},
     "output_type": "execute_result"
    },
    {
     "data": {
      "image/png": "[encoded data removed]",
      "text/plain": [
       "<Figure size 432x288 with 2 Axes>"
      ]
     },
     "metadata": {
      "needs_background": "light"
     },
     "output_type": "display_data"
    }
   ],
   "source": [
    "# Visualise confusion matrix through heatmap\n",
    "sns.heatmap(confusion_matrix(y_test, y_pred), annot=True, fmt='d')"
   ]
  },
  {
   "cell_type": "code",
   "execution_count": 30,
   "metadata": {},
   "outputs": [
    {
     "name": "stdout",
     "output_type": "stream",
     "text": [
      "              precision    recall  f1-score   support\n",
      "\n",
      "           0       0.95      0.95      0.95       714\n",
      "           1       0.83      0.85      0.84        75\n",
      "           2       0.00      0.00      0.00         6\n",
      "           3       0.83      0.84      0.84       174\n",
      "\n",
      "    accuracy                           0.92       969\n",
      "   macro avg       0.65      0.66      0.66       969\n",
      "weighted avg       0.91      0.92      0.91       969\n",
      "\n"
     ]
    },
    {
     "name": "stderr",
     "output_type": "stream",
     "text": [
      "C:\\Users\\yeosi\\anaconda3\\envs\\baseclone\\lib\\site-packages\\sklearn\\metrics\\_classification.py:1221: UndefinedMetricWarning: Precision and F-score are ill-defined and being set to 0.0 in labels with no predicted samples. Use `zero_division` parameter to control this behavior.\n",
      "  _warn_prf(average, modifier, msg_start, len(result))\n"
     ]
    }
   ],
   "source": [
    "print(classification_report(y_test, y_pred))"
   ]
  },
  {
   "cell_type": "markdown",
   "metadata": {},
   "source": [
    "Accuracy score is still pretty good at 0.92. Hyper-parameter tuning will be done to explore if the accuracy can improve further. "
   ]
  },
  {
   "cell_type": "markdown",
   "metadata": {},
   "source": [
    "### Hyper-parameter tuning"
   ]
  },
  {
   "cell_type": "code",
   "execution_count": 51,
   "metadata": {},
   "outputs": [
    {
     "name": "stdout",
     "output_type": "stream",
     "text": [
      "Fitting 3 folds for each of 24 candidates, totalling 72 fits\n"
     ]
    },
    {
     "name": "stderr",
     "output_type": "stream",
     "text": [
      "[Parallel(n_jobs=-1)]: Using backend LokyBackend with 8 concurrent workers.\n",
      "[Parallel(n_jobs=-1)]: Done  34 tasks      | elapsed:    7.7s\n",
      "[Parallel(n_jobs=-1)]: Done  72 out of  72 | elapsed:    9.7s finished\n"
     ]
    },
    {
     "name": "stdout",
     "output_type": "stream",
     "text": [
      "Best: 0.913257 using {'C': 0.1, 'loss': 'squared_hinge', 'penalty': 'l2'}\n"
     ]
    }
   ],
   "source": [
    "# define model and parameters\n",
    "model = LinearSVC(\n",
    "    class_weight = 'balanced'\n",
    ", random_state = random_state)\n",
    "\n",
    "penalty = ['l1', 'l2']\n",
    "loss = ['hinge', 'squared_hinge']\n",
    "kernel = ['poly', 'rbf', 'sigmoid']\n",
    "C = [50, 10, 1.0, 0.5, 0.1, 0.01]\n",
    "\n",
    "# define grid search\n",
    "grid = dict(penalty= penalty,C=C,loss = loss)\n",
    "cv = StratifiedKFold(n_splits=3, shuffle = True, random_state= random_state )\n",
    "grid_search = GridSearchCV(estimator=model, param_grid=grid, n_jobs=-1, cv=cv,error_score=0, verbose = 1)\n",
    "grid_result = grid_search.fit(X_train_v, y_train)\n",
    "\n",
    "# summarize results\n",
    "print(\"Best: %f using %s\" % (grid_result.best_score_, grid_result.best_params_))"
   ]
  },
  {
   "cell_type": "code",
   "execution_count": 52,
   "metadata": {},
   "outputs": [],
   "source": [
    "# Generate predictions using model for test dataset\n",
    "y_pred = grid_search.predict(X_test_v)"
   ]
  },
  {
   "cell_type": "code",
   "execution_count": 53,
   "metadata": {},
   "outputs": [
    {
     "data": {
      "text/plain": [
       "<AxesSubplot:>"
      ]
     },
     "execution_count": 53,
     "metadata": {},
     "output_type": "execute_result"
    },
    {
     "data": {
      "image/png": "[encoded data removed]",
      "text/plain": [
       "<Figure size 432x288 with 2 Axes>"
      ]
     },
     "metadata": {
      "needs_background": "light"
     },
     "output_type": "display_data"
    }
   ],
   "source": [
    "#Generate heatmap of confusion matrix\n",
    "sns.heatmap(confusion_matrix(y_test, y_pred), annot=True, fmt='d')"
   ]
  },
  {
   "cell_type": "code",
   "execution_count": 54,
   "metadata": {},
   "outputs": [
    {
     "name": "stdout",
     "output_type": "stream",
     "text": [
      "              precision    recall  f1-score   support\n",
      "\n",
      "           0       0.96      0.96      0.96       714\n",
      "           1       0.84      0.91      0.87        75\n",
      "           2       0.00      0.00      0.00         6\n",
      "           3       0.89      0.86      0.88       174\n",
      "\n",
      "    accuracy                           0.94       969\n",
      "   macro avg       0.67      0.68      0.68       969\n",
      "weighted avg       0.93      0.94      0.93       969\n",
      "\n"
     ]
    },
    {
     "name": "stderr",
     "output_type": "stream",
     "text": [
      "C:\\Users\\yeosi\\anaconda3\\envs\\baseclone\\lib\\site-packages\\sklearn\\metrics\\_classification.py:1221: UndefinedMetricWarning: Precision and F-score are ill-defined and being set to 0.0 in labels with no predicted samples. Use `zero_division` parameter to control this behavior.\n",
      "  _warn_prf(average, modifier, msg_start, len(result))\n"
     ]
    }
   ],
   "source": [
    "print(classification_report(y_test, y_pred))"
   ]
  },
  {
   "cell_type": "markdown",
   "metadata": {},
   "source": [
    "Hyper- parameter tuning did improve the accuracy score to 0.94, which is great. F1 score for all clsses did improved too. There are no signs of overfitting as well. Therefore, this is the best model out of all and we will select this model for usage. "
   ]
  },
  {
   "cell_type": "markdown",
   "metadata": {},
   "source": [
    "### Best Perfoming Model - Linear SVC"
   ]
  },
  {
   "cell_type": "code",
   "execution_count": 55,
   "metadata": {},
   "outputs": [
    {
     "data": {
      "text/plain": [
       "LinearSVC(C=0.1, class_weight='balanced', random_state=100)"
      ]
     },
     "execution_count": 55,
     "metadata": {},
     "output_type": "execute_result"
    }
   ],
   "source": [
    "# Instantiate model \n",
    "lisvc = LinearSVC( C = 0.1, class_weight = 'balanced', random_state = 100)\n",
    "\n",
    "# Fit model \n",
    "lisvc.fit(X_train_v, y_train)"
   ]
  },
  {
   "cell_type": "code",
   "execution_count": 56,
   "metadata": {},
   "outputs": [],
   "source": [
    "# Predict topics using tets dataset\n",
    "y_pred = lisvc.predict(X_test_v)"
   ]
  },
  {
   "cell_type": "code",
   "execution_count": 57,
   "metadata": {},
   "outputs": [
    {
     "name": "stdout",
     "output_type": "stream",
     "text": [
      "Mean Accuracy Score: 0.9133\n"
     ]
    }
   ],
   "source": [
    "# Conduct stratified kfold to prevent overfitting\n",
    "stratified_kfold = StratifiedKFold(n_splits=3, shuffle = True,random_state= random_state)\n",
    "scores = cross_val_score(lisvc, X_train_v, y_train, cv = stratified_kfold)\n",
    "print('Mean Accuracy Score: %.4f' % np.mean(scores))"
   ]
  },
  {
   "cell_type": "code",
   "execution_count": 58,
   "metadata": {},
   "outputs": [
    {
     "data": {
      "text/plain": [
       "<AxesSubplot:>"
      ]
     },
     "execution_count": 58,
     "metadata": {},
     "output_type": "execute_result"
    },
    {
     "data": {
      "image/png": "[encoded data removed]",
      "text/plain": [
       "<Figure size 432x288 with 2 Axes>"
      ]
     },
     "metadata": {
      "needs_background": "light"
     },
     "output_type": "display_data"
    }
   ],
   "source": [
    "# Visualise confusion matrix through heatmap\n",
    "sns.heatmap(confusion_matrix(y_test, y_pred), annot=True, fmt='d')"
   ]
  },
  {
   "cell_type": "code",
   "execution_count": 60,
   "metadata": {},
   "outputs": [
    {
     "name": "stdout",
     "output_type": "stream",
     "text": [
      "              precision    recall  f1-score   support\n",
      "\n",
      "           0       0.96      0.96      0.96       714\n",
      "           1       0.84      0.91      0.87        75\n",
      "           2       0.00      0.00      0.00         6\n",
      "           3       0.89      0.86      0.88       174\n",
      "\n",
      "    accuracy                           0.94       969\n",
      "   macro avg       0.67      0.68      0.68       969\n",
      "weighted avg       0.93      0.94      0.93       969\n",
      "\n"
     ]
    }
   ],
   "source": [
    "print(classification_report(y_test, y_pred))"
   ]
  },
  {
   "cell_type": "markdown",
   "metadata": {},
   "source": [
    "## 3. Save and pickle model for deployment"
   ]
  },
  {
   "cell_type": "code",
   "execution_count": 67,
   "metadata": {},
   "outputs": [],
   "source": [
    "# Make pipeline to combine Tfidf vectorizer with model\n",
    "pipe = make_pipeline(vectorizer, lisvc)\n",
    "\n",
    "# Save the model as pickle file \n",
    "with open('lsvc_pipe_model.pkl', 'wb') as files:\n",
    "    pickle.dump(pipe, files)\n",
    "\n",
    "# Try loading model to check if it works     \n",
    "model = pickle.load(open('lsvc_pipe_model.pkl','rb'))\n"
   ]
  },
  {
   "cell_type": "code",
   "execution_count": 68,
   "metadata": {},
   "outputs": [
    {
     "data": {
      "text/plain": [
       "0    2846\n",
       "3     694\n",
       "1     315\n",
       "2      19\n",
       "dtype: int64"
      ]
     },
     "execution_count": 68,
     "metadata": {},
     "output_type": "execute_result"
    }
   ],
   "source": [
    "pred = model.predict(df['Cleaned_Review'])\n",
    "pred = pd.DataFrame(pred)\n",
    "pred.value_counts()"
   ]
  },
  {
   "cell_type": "code",
   "execution_count": 69,
   "metadata": {},
   "outputs": [
    {
     "data": {
      "text/plain": [
       "Pipeline(steps=[('tfidfvectorizer',\n",
       "                 TfidfVectorizer(max_df=0.5, sublinear_tf=True)),\n",
       "                ('linearsvc',\n",
       "                 LinearSVC(C=0.1, class_weight='balanced', random_state=100))])"
      ]
     },
     "execution_count": 69,
     "metadata": {},
     "output_type": "execute_result"
    }
   ],
   "source": [
    "# Model works well \n",
    "model"
   ]
  },
  {
   "cell_type": "markdown",
   "metadata": {},
   "source": [
    "# Conclusion"
   ]
  },
  {
   "cell_type": "markdown",
   "metadata": {},
   "source": [
    "The model trained using linear SVC provides the highest accuracy of 0.94, therefore, this model is selected for topic classification for hotel reviews. The model can now be used for deployment on Streamlit - pls refer to the Streamlit folder in the same github repo. "
   ]
  }
 ],
 "metadata": {
  "interpreter": {
   "hash": "06ec8a203daed907d44680683fa2a9c4e7938b5804e1d99db52ad8f37677ef76"
  },
  "kernelspec": {
   "display_name": "Python 3",
   "language": "python",
   "name": "python3"
  },
  "language_info": {
   "codemirror_mode": {
    "name": "ipython",
    "version": 3
   },
   "file_extension": ".py",
   "mimetype": "text/x-python",
   "name": "python",
   "nbconvert_exporter": "python",
   "pygments_lexer": "ipython3",
   "version": "3.8.8"
  }
 },
 "nbformat": 4,
 "nbformat_minor": 2
}
