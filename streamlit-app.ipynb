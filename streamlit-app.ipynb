{
 "cells": [
  {
   "cell_type": "code",
   "execution_count": 1,
   "metadata": {},
   "outputs": [
    {
     "name": "stderr",
     "output_type": "stream",
     "text": [
      "2022-05-21 16:12:41.053 INFO    numexpr.utils: NumExpr defaulting to 8 threads.\n"
     ]
    }
   ],
   "source": [
    "import streamlit as st\n",
    "import boto3"
   ]
  },
  {
   "cell_type": "code",
   "execution_count": 2,
   "metadata": {},
   "outputs": [
    {
     "name": "stderr",
     "output_type": "stream",
     "text": [
      "2022-05-21 16:16:33.501 \n",
      "  \u001b[33m\u001b[1mWarning:\u001b[0m to view this Streamlit app on a browser, run it with the following\n",
      "  command:\n",
      "\n",
      "    streamlit run /Users/darrenhum/miniforge3/envs/tensorflowtest/lib/python3.8/site-packages/ipykernel_launcher.py [ARGUMENTS]\n"
     ]
    },
    {
     "ename": "FileNotFoundError",
     "evalue": "[Errno 2] No such file or directory: '/Users/darrenhum/pCloud Drive/Data Science/Learning - MAGES/Capstone-Project-/notebooks/.streamlit/secrets.toml'",
     "output_type": "error",
     "traceback": [
      "\u001b[0;31m---------------------------------------------------------------------------\u001b[0m",
      "\u001b[0;31mFileNotFoundError\u001b[0m                         Traceback (most recent call last)",
      "File \u001b[0;32m~/miniforge3/envs/tensorflowtest/lib/python3.8/site-packages/IPython/core/formatters.py:707\u001b[0m, in \u001b[0;36mPlainTextFormatter.__call__\u001b[0;34m(self, obj)\u001b[0m\n\u001b[1;32m    <a href='file:///Users/darrenhum/miniforge3/envs/tensorflowtest/lib/python3.8/site-packages/IPython/core/formatters.py?line=699'>700</a>\u001b[0m stream \u001b[39m=\u001b[39m StringIO()\n\u001b[1;32m    <a href='file:///Users/darrenhum/miniforge3/envs/tensorflowtest/lib/python3.8/site-packages/IPython/core/formatters.py?line=700'>701</a>\u001b[0m printer \u001b[39m=\u001b[39m pretty\u001b[39m.\u001b[39mRepresentationPrinter(stream, \u001b[39mself\u001b[39m\u001b[39m.\u001b[39mverbose,\n\u001b[1;32m    <a href='file:///Users/darrenhum/miniforge3/envs/tensorflowtest/lib/python3.8/site-packages/IPython/core/formatters.py?line=701'>702</a>\u001b[0m     \u001b[39mself\u001b[39m\u001b[39m.\u001b[39mmax_width, \u001b[39mself\u001b[39m\u001b[39m.\u001b[39mnewline,\n\u001b[1;32m    <a href='file:///Users/darrenhum/miniforge3/envs/tensorflowtest/lib/python3.8/site-packages/IPython/core/formatters.py?line=702'>703</a>\u001b[0m     max_seq_length\u001b[39m=\u001b[39m\u001b[39mself\u001b[39m\u001b[39m.\u001b[39mmax_seq_length,\n\u001b[1;32m    <a href='file:///Users/darrenhum/miniforge3/envs/tensorflowtest/lib/python3.8/site-packages/IPython/core/formatters.py?line=703'>704</a>\u001b[0m     singleton_pprinters\u001b[39m=\u001b[39m\u001b[39mself\u001b[39m\u001b[39m.\u001b[39msingleton_printers,\n\u001b[1;32m    <a href='file:///Users/darrenhum/miniforge3/envs/tensorflowtest/lib/python3.8/site-packages/IPython/core/formatters.py?line=704'>705</a>\u001b[0m     type_pprinters\u001b[39m=\u001b[39m\u001b[39mself\u001b[39m\u001b[39m.\u001b[39mtype_printers,\n\u001b[1;32m    <a href='file:///Users/darrenhum/miniforge3/envs/tensorflowtest/lib/python3.8/site-packages/IPython/core/formatters.py?line=705'>706</a>\u001b[0m     deferred_pprinters\u001b[39m=\u001b[39m\u001b[39mself\u001b[39m\u001b[39m.\u001b[39mdeferred_printers)\n\u001b[0;32m--> <a href='file:///Users/darrenhum/miniforge3/envs/tensorflowtest/lib/python3.8/site-packages/IPython/core/formatters.py?line=706'>707</a>\u001b[0m printer\u001b[39m.\u001b[39;49mpretty(obj)\n\u001b[1;32m    <a href='file:///Users/darrenhum/miniforge3/envs/tensorflowtest/lib/python3.8/site-packages/IPython/core/formatters.py?line=707'>708</a>\u001b[0m printer\u001b[39m.\u001b[39mflush()\n\u001b[1;32m    <a href='file:///Users/darrenhum/miniforge3/envs/tensorflowtest/lib/python3.8/site-packages/IPython/core/formatters.py?line=708'>709</a>\u001b[0m \u001b[39mreturn\u001b[39;00m stream\u001b[39m.\u001b[39mgetvalue()\n",
      "File \u001b[0;32m~/miniforge3/envs/tensorflowtest/lib/python3.8/site-packages/IPython/lib/pretty.py:410\u001b[0m, in \u001b[0;36mRepresentationPrinter.pretty\u001b[0;34m(self, obj)\u001b[0m\n\u001b[1;32m    <a href='file:///Users/darrenhum/miniforge3/envs/tensorflowtest/lib/python3.8/site-packages/IPython/lib/pretty.py?line=406'>407</a>\u001b[0m                         \u001b[39mreturn\u001b[39;00m meth(obj, \u001b[39mself\u001b[39m, cycle)\n\u001b[1;32m    <a href='file:///Users/darrenhum/miniforge3/envs/tensorflowtest/lib/python3.8/site-packages/IPython/lib/pretty.py?line=407'>408</a>\u001b[0m                 \u001b[39mif\u001b[39;00m \u001b[39mcls\u001b[39m \u001b[39mis\u001b[39;00m \u001b[39mnot\u001b[39;00m \u001b[39mobject\u001b[39m \\\n\u001b[1;32m    <a href='file:///Users/darrenhum/miniforge3/envs/tensorflowtest/lib/python3.8/site-packages/IPython/lib/pretty.py?line=408'>409</a>\u001b[0m                         \u001b[39mand\u001b[39;00m callable(\u001b[39mcls\u001b[39m\u001b[39m.\u001b[39m\u001b[39m__dict__\u001b[39m\u001b[39m.\u001b[39mget(\u001b[39m'\u001b[39m\u001b[39m__repr__\u001b[39m\u001b[39m'\u001b[39m)):\n\u001b[0;32m--> <a href='file:///Users/darrenhum/miniforge3/envs/tensorflowtest/lib/python3.8/site-packages/IPython/lib/pretty.py?line=409'>410</a>\u001b[0m                     \u001b[39mreturn\u001b[39;00m _repr_pprint(obj, \u001b[39mself\u001b[39;49m, cycle)\n\u001b[1;32m    <a href='file:///Users/darrenhum/miniforge3/envs/tensorflowtest/lib/python3.8/site-packages/IPython/lib/pretty.py?line=411'>412</a>\u001b[0m     \u001b[39mreturn\u001b[39;00m _default_pprint(obj, \u001b[39mself\u001b[39m, cycle)\n\u001b[1;32m    <a href='file:///Users/darrenhum/miniforge3/envs/tensorflowtest/lib/python3.8/site-packages/IPython/lib/pretty.py?line=412'>413</a>\u001b[0m \u001b[39mfinally\u001b[39;00m:\n",
      "File \u001b[0;32m~/miniforge3/envs/tensorflowtest/lib/python3.8/site-packages/IPython/lib/pretty.py:778\u001b[0m, in \u001b[0;36m_repr_pprint\u001b[0;34m(obj, p, cycle)\u001b[0m\n\u001b[1;32m    <a href='file:///Users/darrenhum/miniforge3/envs/tensorflowtest/lib/python3.8/site-packages/IPython/lib/pretty.py?line=775'>776</a>\u001b[0m \u001b[39m\"\"\"A pprint that just redirects to the normal repr function.\"\"\"\u001b[39;00m\n\u001b[1;32m    <a href='file:///Users/darrenhum/miniforge3/envs/tensorflowtest/lib/python3.8/site-packages/IPython/lib/pretty.py?line=776'>777</a>\u001b[0m \u001b[39m# Find newlines and replace them with p.break_()\u001b[39;00m\n\u001b[0;32m--> <a href='file:///Users/darrenhum/miniforge3/envs/tensorflowtest/lib/python3.8/site-packages/IPython/lib/pretty.py?line=777'>778</a>\u001b[0m output \u001b[39m=\u001b[39m \u001b[39mrepr\u001b[39;49m(obj)\n\u001b[1;32m    <a href='file:///Users/darrenhum/miniforge3/envs/tensorflowtest/lib/python3.8/site-packages/IPython/lib/pretty.py?line=778'>779</a>\u001b[0m lines \u001b[39m=\u001b[39m output\u001b[39m.\u001b[39msplitlines()\n\u001b[1;32m    <a href='file:///Users/darrenhum/miniforge3/envs/tensorflowtest/lib/python3.8/site-packages/IPython/lib/pretty.py?line=779'>780</a>\u001b[0m \u001b[39mwith\u001b[39;00m p\u001b[39m.\u001b[39mgroup():\n",
      "File \u001b[0;32m~/miniforge3/envs/tensorflowtest/lib/python3.8/site-packages/streamlit/secrets.py:231\u001b[0m, in \u001b[0;36mSecrets.__repr__\u001b[0;34m(self)\u001b[0m\n\u001b[1;32m    <a href='file:///Users/darrenhum/miniforge3/envs/tensorflowtest/lib/python3.8/site-packages/streamlit/secrets.py?line=229'>230</a>\u001b[0m \u001b[39mdef\u001b[39;00m \u001b[39m__repr__\u001b[39m(\u001b[39mself\u001b[39m):\n\u001b[0;32m--> <a href='file:///Users/darrenhum/miniforge3/envs/tensorflowtest/lib/python3.8/site-packages/streamlit/secrets.py?line=230'>231</a>\u001b[0m     \u001b[39mreturn\u001b[39;00m \u001b[39mrepr\u001b[39m(\u001b[39mself\u001b[39;49m\u001b[39m.\u001b[39;49m_parse(\u001b[39mTrue\u001b[39;49;00m))\n",
      "File \u001b[0;32m~/miniforge3/envs/tensorflowtest/lib/python3.8/site-packages/streamlit/secrets.py:141\u001b[0m, in \u001b[0;36mSecrets._parse\u001b[0;34m(self, print_exceptions)\u001b[0m\n\u001b[1;32m    <a href='file:///Users/darrenhum/miniforge3/envs/tensorflowtest/lib/python3.8/site-packages/streamlit/secrets.py?line=137'>138</a>\u001b[0m     \u001b[39mreturn\u001b[39;00m \u001b[39mself\u001b[39m\u001b[39m.\u001b[39m_secrets\n\u001b[1;32m    <a href='file:///Users/darrenhum/miniforge3/envs/tensorflowtest/lib/python3.8/site-packages/streamlit/secrets.py?line=139'>140</a>\u001b[0m \u001b[39mtry\u001b[39;00m:\n\u001b[0;32m--> <a href='file:///Users/darrenhum/miniforge3/envs/tensorflowtest/lib/python3.8/site-packages/streamlit/secrets.py?line=140'>141</a>\u001b[0m     \u001b[39mwith\u001b[39;00m \u001b[39mopen\u001b[39;49m(\u001b[39mself\u001b[39;49m\u001b[39m.\u001b[39;49m_file_path, encoding\u001b[39m=\u001b[39;49m\u001b[39m\"\u001b[39;49m\u001b[39mutf-8\u001b[39;49m\u001b[39m\"\u001b[39;49m) \u001b[39mas\u001b[39;00m f:\n\u001b[1;32m    <a href='file:///Users/darrenhum/miniforge3/envs/tensorflowtest/lib/python3.8/site-packages/streamlit/secrets.py?line=141'>142</a>\u001b[0m         secrets_file_str \u001b[39m=\u001b[39m f\u001b[39m.\u001b[39mread()\n\u001b[1;32m    <a href='file:///Users/darrenhum/miniforge3/envs/tensorflowtest/lib/python3.8/site-packages/streamlit/secrets.py?line=142'>143</a>\u001b[0m \u001b[39mexcept\u001b[39;00m \u001b[39mFileNotFoundError\u001b[39;00m:\n",
      "\u001b[0;31mFileNotFoundError\u001b[0m: [Errno 2] No such file or directory: '/Users/darrenhum/pCloud Drive/Data Science/Learning - MAGES/Capstone-Project-/notebooks/.streamlit/secrets.toml'"
     ]
    }
   ],
   "source": [
    "st.secrets"
   ]
  },
  {
   "cell_type": "code",
   "execution_count": null,
   "metadata": {},
   "outputs": [],
   "source": [
    "athena = boto3.client(\n",
    "    'athena',\n",
    "    aws_access_key_id=AWS_ACCESS_KEY_ID,\n",
    "    aws_secret_access_key=AWS_SECRET_ACCESS_KEY\n",
    "    )"
   ]
  }
 ],
 "metadata": {
  "interpreter": {
   "hash": "06ec8a203daed907d44680683fa2a9c4e7938b5804e1d99db52ad8f37677ef76"
  },
  "kernelspec": {
   "display_name": "Python 3.8.12 ('tensorflowtest')",
   "language": "python",
   "name": "python3"
  },
  "language_info": {
   "codemirror_mode": {
    "name": "ipython",
    "version": 3
   },
   "file_extension": ".py",
   "mimetype": "text/x-python",
   "name": "python",
   "nbconvert_exporter": "python",
   "pygments_lexer": "ipython3",
   "version": "3.8.12"
  },
  "orig_nbformat": 4
 },
 "nbformat": 4,
 "nbformat_minor": 2
}
