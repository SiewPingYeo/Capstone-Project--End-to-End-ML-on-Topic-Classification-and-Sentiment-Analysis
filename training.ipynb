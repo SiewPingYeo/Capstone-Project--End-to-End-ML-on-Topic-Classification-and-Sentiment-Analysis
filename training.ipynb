{
 "cells": [
  {
   "cell_type": "code",
   "execution_count": 1,
   "metadata": {},
   "outputs": [],
   "source": [
    "import pandas as pd\n",
    "from sklearn.model_selection import train_test_split, GridSearchCV\n",
    "from sklearn.feature_extraction.text import TfidfVectorizer\n",
    "from sklearn.metrics import accuracy_score, confusion_matrix, classification_report, roc_auc_score\n",
    "from sklearn.ensemble import RandomForestClassifier, AdaBoostClassifier\n",
    "from sklearn.svm import SVC\n",
    "from sklearn.pipeline import make_pipeline\n",
    "import joblib\n",
    "import seaborn as sns"
   ]
  },
  {
   "cell_type": "code",
   "execution_count": 2,
   "metadata": {},
   "outputs": [],
   "source": [
    "df = pd.read_csv('final_df.csv')"
   ]
  },
  {
   "cell_type": "markdown",
   "metadata": {},
   "source": [
    "#### Preprocessing"
   ]
  },
  {
   "cell_type": "code",
   "execution_count": 3,
   "metadata": {},
   "outputs": [],
   "source": [
    "X = df['Review']\n",
    "y = df['Dominant_topic']"
   ]
  },
  {
   "cell_type": "code",
   "execution_count": 4,
   "metadata": {},
   "outputs": [
    {
     "data": {
      "text/plain": [
       "TfidfVectorizer(max_df=0.5, sublinear_tf=True)"
      ]
     },
     "execution_count": 4,
     "metadata": {},
     "output_type": "execute_result"
    }
   ],
   "source": [
    "# split data into test and training\n",
    "X_train, X_test, y_train, y_test = train_test_split(\n",
    "    X, y, \n",
    "    test_size=0.2, \n",
    "    random_state = 77)\n",
    "\n",
    "#initiate vectorizer and fit\n",
    "vectorizer = TfidfVectorizer(sublinear_tf=True, max_df = 0.5)\n",
    "vectorizer.fit(X_train)\n",
    "\n",
    "#save\n",
    "#joblib.dump(vectorizer, './models/tfidf_vectorizer.pkl')\n"
   ]
  },
  {
   "cell_type": "code",
   "execution_count": 5,
   "metadata": {},
   "outputs": [],
   "source": [
    "#transform to vectors\n",
    "X_train_v = vectorizer.transform(X_train).toarray()\n",
    "X_test_v = vectorizer.transform(X_test).toarray()"
   ]
  },
  {
   "cell_type": "markdown",
   "metadata": {},
   "source": [
    "#### Model Training - RF"
   ]
  },
  {
   "cell_type": "code",
   "execution_count": 130,
   "metadata": {},
   "outputs": [
    {
     "data": {
      "text/plain": [
       "RandomForestClassifier(class_weight='balanced', criterion='entropy',\n",
       "                       max_samples=0.5, min_samples_split=20, n_estimators=75,\n",
       "                       random_state=77)"
      ]
     },
     "execution_count": 130,
     "metadata": {},
     "output_type": "execute_result"
    }
   ],
   "source": [
    "#\n",
    "clf = RandomForestClassifier(\n",
    "    n_estimators = 75,\n",
    "    criterion = 'entropy',\n",
    "    random_state = 77,\n",
    "    class_weight = 'balanced',\n",
    "    min_samples_split = 20,\n",
    "    max_samples = 0.5\n",
    ")\n",
    "\n",
    "clf.fit(X_train_v, y_train)"
   ]
  },
  {
   "cell_type": "code",
   "execution_count": 126,
   "metadata": {},
   "outputs": [
    {
     "name": "stdout",
     "output_type": "stream",
     "text": [
      "0.9690358902181563 0.8273921200750469\n"
     ]
    }
   ],
   "source": [
    "y_pred = clf.predict(X_test_v)\n",
    "y_pred_train = clf.predict(X_train_v)\n",
    "\n",
    "print(\n",
    "    accuracy_score(y_train, y_pred_train),\n",
    "    accuracy_score(y_test, y_pred)\n",
    ")"
   ]
  },
  {
   "cell_type": "code",
   "execution_count": 127,
   "metadata": {},
   "outputs": [],
   "source": [
    "cm = confusion_matrix(y_test, y_pred)"
   ]
  },
  {
   "cell_type": "code",
   "execution_count": 128,
   "metadata": {},
   "outputs": [
    {
     "data": {
      "text/plain": [
       "<AxesSubplot:>"
      ]
     },
     "execution_count": 128,
     "metadata": {},
     "output_type": "execute_result"
    },
    {
     "data": {
      "image/png": "[encoded data removed]",
      "text/plain": [
       "<Figure size 432x288 with 2 Axes>"
      ]
     },
     "metadata": {
      "needs_background": "light"
     },
     "output_type": "display_data"
    }
   ],
   "source": [
    "sns.heatmap(cm, annot=True, fmt='d')"
   ]
  },
  {
   "cell_type": "code",
   "execution_count": 129,
   "metadata": {},
   "outputs": [
    {
     "name": "stdout",
     "output_type": "stream",
     "text": [
      "              precision    recall  f1-score   support\n",
      "\n",
      "           0       0.83      0.62      0.71       231\n",
      "           1       1.00      0.79      0.89        39\n",
      "           2       0.80      0.96      0.87       638\n",
      "           3       1.00      0.76      0.87        59\n",
      "           4       1.00      0.48      0.65        99\n",
      "\n",
      "    accuracy                           0.83      1066\n",
      "   macro avg       0.93      0.73      0.80      1066\n",
      "weighted avg       0.84      0.83      0.82      1066\n",
      "\n"
     ]
    }
   ],
   "source": [
    "print(classification_report(y_test, y_pred))\n"
   ]
  },
  {
   "cell_type": "markdown",
   "metadata": {},
   "source": [
    "#### Model Training - AdaBoost"
   ]
  },
  {
   "cell_type": "code",
   "execution_count": 136,
   "metadata": {},
   "outputs": [
    {
     "data": {
      "text/plain": [
       "AdaBoostClassifier(learning_rate=0.8, n_estimators=75, random_state=77)"
      ]
     },
     "execution_count": 136,
     "metadata": {},
     "output_type": "execute_result"
    }
   ],
   "source": [
    "clf_ada = AdaBoostClassifier(\n",
    "    n_estimators = 75,\n",
    "    random_state = 77,\n",
    "    learning_rate = 0.8\n",
    ")\n",
    "\n",
    "clf_ada.fit(X_train_v, y_train)"
   ]
  },
  {
   "cell_type": "code",
   "execution_count": 137,
   "metadata": {},
   "outputs": [
    {
     "name": "stdout",
     "output_type": "stream",
     "text": [
      "0.6183438892798498 0.600375234521576\n"
     ]
    }
   ],
   "source": [
    "y_pred = clf_ada.predict(X_test_v)\n",
    "y_pred_train = clf_ada.predict(X_train_v)\n",
    "\n",
    "print(\n",
    "    accuracy_score(y_train, y_pred_train),\n",
    "    accuracy_score(y_test, y_pred)\n",
    ")"
   ]
  },
  {
   "cell_type": "markdown",
   "metadata": {},
   "source": [
    "#### SVM"
   ]
  },
  {
   "cell_type": "code",
   "execution_count": 6,
   "metadata": {},
   "outputs": [
    {
     "data": {
      "text/plain": [
       "SVC(class_weight='balanced')"
      ]
     },
     "execution_count": 6,
     "metadata": {},
     "output_type": "execute_result"
    }
   ],
   "source": [
    "svc = SVC(\n",
    "    class_weight = 'balanced'\n",
    ")\n",
    "svc.fit(X_train_v, y_train)"
   ]
  },
  {
   "cell_type": "code",
   "execution_count": 7,
   "metadata": {},
   "outputs": [
    {
     "name": "stdout",
     "output_type": "stream",
     "text": [
      "0.9861599812338728 0.8724202626641651\n"
     ]
    }
   ],
   "source": [
    "y_pred = svc.predict(X_test_v)\n",
    "y_pred_train = svc.predict(X_train_v)\n",
    "\n",
    "print(\n",
    "    accuracy_score(y_train, y_pred_train),\n",
    "    accuracy_score(y_test, y_pred)\n",
    ")"
   ]
  },
  {
   "cell_type": "code",
   "execution_count": 8,
   "metadata": {},
   "outputs": [
    {
     "data": {
      "text/plain": [
       "<AxesSubplot:>"
      ]
     },
     "execution_count": 8,
     "metadata": {},
     "output_type": "execute_result"
    },
    {
     "data": {
      "image/png": "[encoded data removed]",
      "text/plain": [
       "<Figure size 432x288 with 2 Axes>"
      ]
     },
     "metadata": {
      "needs_background": "light"
     },
     "output_type": "display_data"
    }
   ],
   "source": [
    "sns.heatmap(confusion_matrix(y_test, y_pred), annot=True, fmt='d')"
   ]
  },
  {
   "cell_type": "markdown",
   "metadata": {},
   "source": [
    "#### Pipeline"
   ]
  },
  {
   "cell_type": "code",
   "execution_count": 10,
   "metadata": {},
   "outputs": [
    {
     "name": "stdout",
     "output_type": "stream",
     "text": [
      "pipeline test > accuracy against test set is 0.8724202626641651\n"
     ]
    }
   ],
   "source": [
    "import pickle \n",
    "pipe = make_pipeline(vectorizer, svc)\n",
    "\n",
    "with open('pipe_model', 'wb') as files:\n",
    "    pickle.dump(pipe, files)\n",
    "\n",
    "model = pickle.load(open('pipe_model','rb'))\n",
    "\n",
    "pipe.fit(X_train, y_train)\n",
    "#joblib.dump(pipe, './models/pipeline.pkl')\n",
    "\n",
    "pipeline_pred = pipe.predict(X_test)\n",
    "print(f'pipeline test > accuracy against test set is {accuracy_score(y_test, pipeline_pred)}')\n"
   ]
  },
  {
   "cell_type": "code",
   "execution_count": 11,
   "metadata": {},
   "outputs": [
    {
     "data": {
      "text/plain": [
       "Pipeline(steps=[('tfidfvectorizer',\n",
       "                 TfidfVectorizer(max_df=0.5, sublinear_tf=True)),\n",
       "                ('svc', SVC(class_weight='balanced'))])"
      ]
     },
     "execution_count": 11,
     "metadata": {},
     "output_type": "execute_result"
    }
   ],
   "source": [
    "model"
   ]
  },
  {
   "cell_type": "code",
   "execution_count": 16,
   "metadata": {},
   "outputs": [],
   "source": [
    "df['Topic'] = model.predict(df['Review'])"
   ]
  },
  {
   "cell_type": "code",
   "execution_count": 18,
   "metadata": {},
   "outputs": [],
   "source": [
    "from sklearn.svm import LinearSVC"
   ]
  },
  {
   "cell_type": "code",
   "execution_count": null,
   "metadata": {},
   "outputs": [],
   "source": [
    "make_pipeline(LinearSVC(random_state=0, tol=1e-5))"
   ]
  },
  {
   "cell_type": "code",
   "execution_count": 19,
   "metadata": {},
   "outputs": [
    {
     "data": {
      "text/plain": [
       "LinearSVC(class_weight='balanced', random_state=100)"
      ]
     },
     "execution_count": 19,
     "metadata": {},
     "output_type": "execute_result"
    }
   ],
   "source": [
    "svc = LinearSVC(\n",
    "    class_weight = 'balanced'\n",
    ", random_state = 100)\n",
    "svc.fit(X_train_v, y_train)"
   ]
  },
  {
   "cell_type": "code",
   "execution_count": 20,
   "metadata": {},
   "outputs": [
    {
     "name": "stdout",
     "output_type": "stream",
     "text": [
      "0.9978888106966924 0.8939962476547842\n"
     ]
    }
   ],
   "source": [
    "y_pred = svc.predict(X_test_v)\n",
    "y_pred_train = svc.predict(X_train_v)\n",
    "\n",
    "print(\n",
    "    accuracy_score(y_train, y_pred_train),\n",
    "    accuracy_score(y_test, y_pred)\n",
    ")"
   ]
  },
  {
   "cell_type": "code",
   "execution_count": 21,
   "metadata": {},
   "outputs": [
    {
     "data": {
      "text/plain": [
       "<AxesSubplot:>"
      ]
     },
     "execution_count": 21,
     "metadata": {},
     "output_type": "execute_result"
    },
    {
     "data": {
      "image/png": "[encoded data removed]",
      "text/plain": [
       "<Figure size 432x288 with 2 Axes>"
      ]
     },
     "metadata": {
      "needs_background": "light"
     },
     "output_type": "display_data"
    }
   ],
   "source": [
    "sns.heatmap(confusion_matrix(y_test, y_pred), annot=True, fmt='d')"
   ]
  },
  {
   "cell_type": "code",
   "execution_count": 23,
   "metadata": {},
   "outputs": [
    {
     "name": "stdout",
     "output_type": "stream",
     "text": [
      "              precision    recall  f1-score   support\n",
      "\n",
      "           0       0.87      0.84      0.86       231\n",
      "           1       0.97      0.85      0.90        39\n",
      "           2       0.91      0.94      0.92       638\n",
      "           3       0.92      0.83      0.88        59\n",
      "           4       0.83      0.77      0.80        99\n",
      "\n",
      "    accuracy                           0.89      1066\n",
      "   macro avg       0.90      0.85      0.87      1066\n",
      "weighted avg       0.89      0.89      0.89      1066\n",
      "\n"
     ]
    }
   ],
   "source": [
    "from sklearn.metrics import classification_report\n",
    "print(classification_report(y_test, y_pred))"
   ]
  },
  {
   "cell_type": "code",
   "execution_count": 27,
   "metadata": {},
   "outputs": [],
   "source": [
    "import pickle \n",
    "pipe = make_pipeline(vectorizer, svc)\n",
    "\n",
    "with open('lsvc_pipe_model', 'wb') as files:\n",
    "    pickle.dump(pipe, files)\n",
    "\n",
    "model = pickle.load(open('lsvc_pipe_model','rb'))\n"
   ]
  },
  {
   "cell_type": "code",
   "execution_count": 28,
   "metadata": {},
   "outputs": [
    {
     "data": {
      "text/plain": [
       "array([4, 2, 0, ..., 2, 0, 4], dtype=int64)"
      ]
     },
     "execution_count": 28,
     "metadata": {},
     "output_type": "execute_result"
    }
   ],
   "source": [
    "model.predict(df['Review'])"
   ]
  },
  {
   "cell_type": "code",
   "execution_count": 29,
   "metadata": {},
   "outputs": [
    {
     "data": {
      "text/plain": [
       "Pipeline(steps=[('tfidfvectorizer',\n",
       "                 TfidfVectorizer(max_df=0.5, sublinear_tf=True)),\n",
       "                ('linearsvc',\n",
       "                 LinearSVC(class_weight='balanced', random_state=100))])"
      ]
     },
     "execution_count": 29,
     "metadata": {},
     "output_type": "execute_result"
    }
   ],
   "source": [
    "model"
   ]
  },
  {
   "cell_type": "markdown",
   "metadata": {},
   "source": []
  }
 ],
 "metadata": {
  "interpreter": {
   "hash": "06ec8a203daed907d44680683fa2a9c4e7938b5804e1d99db52ad8f37677ef76"
  },
  "kernelspec": {
   "display_name": "Python 3",
   "language": "python",
   "name": "python3"
  },
  "language_info": {
   "codemirror_mode": {
    "name": "ipython",
    "version": 3
   },
   "file_extension": ".py",
   "mimetype": "text/x-python",
   "name": "python",
   "nbconvert_exporter": "python",
   "pygments_lexer": "ipython3",
   "version": "3.8.8"
  }
 },
 "nbformat": 4,
 "nbformat_minor": 2
}
